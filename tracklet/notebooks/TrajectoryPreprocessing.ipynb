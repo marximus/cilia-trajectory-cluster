{
 "cells": [
  {
   "cell_type": "code",
   "execution_count": null,
   "metadata": {
    "collapsed": false
   },
   "outputs": [],
   "source": [
    "%matplotlib notebook\n",
    "import matplotlib.pyplot as plt\n",
    "from mpl_toolkits.mplot3d import Axes3D\n",
    "import numpy as np"
   ]
  },
  {
   "cell_type": "markdown",
   "metadata": {},
   "source": [
    "# Trajectory as vector function"
   ]
  },
  {
   "cell_type": "markdown",
   "metadata": {},
   "source": [
    "Trajectory is defined by the following vector-valued function:\n",
    "$$\\vec{r}(t) = \\begin{bmatrix} x(t) \\\\ y(t) \\end{bmatrix}$$ "
   ]
  },
  {
   "cell_type": "code",
   "execution_count": null,
   "metadata": {
    "collapsed": false
   },
   "outputs": [],
   "source": [
    "\n",
    "ts = np.arange(len(xs))\n",
    "n_pts = len(ts)"
   ]
  },
  {
   "cell_type": "code",
   "execution_count": null,
   "metadata": {
    "collapsed": false
   },
   "outputs": [],
   "source": [
    "fig, ax = plt.subplots(subplot_kw={'aspect': 'equal'})\n",
    "ax.plot(xs, ys, '.-')\n",
    "pad = 0.3; ax.set_xlim(xs.min()-pad, xs.max()+pad); ax.set_ylim(ys.min()-pad, ys.max()+pad);\n",
    "# show position vectors\n",
    "# for t, x, y in zip(ts, xs, ys):\n",
    "#     ax.arrow(0, 0, x, y, ls=':', head_width=0.2, head_length=0.3, length_includes_head=True)\n",
    "#     ax.annotate('t={}'.format(t), (x, y))\n"
   ]
  },
  {
   "cell_type": "code",
   "execution_count": null,
   "metadata": {
    "collapsed": false
   },
   "outputs": [],
   "source": [
    "fig, ax = plt.subplots(subplot_kw={'aspect': 'equal', 'projection': '3d'})\n",
    "\n",
    "ax.plot(xs, ys, ts, '.-', zdir='z')\n",
    "# set limits\n",
    "ax.set_xlim(xs.min()-1, xs.max()+1)\n",
    "ax.set_ylim(ys.min()-1, ys.max()+1)\n",
    "ax.set_zlim(0, n_pts-1)\n",
    "# set axes labels\n",
    "ax.set_xlabel('x', fontsize=16)\n",
    "ax.set_ylabel('y', fontsize=16)\n",
    "ax.set_zlabel('z', fontsize=16)\n",
    "ax.tick_params(axis='both', which='major', labelsize=6)"
   ]
  },
  {
   "cell_type": "markdown",
   "metadata": {},
   "source": [
    "# 1. Compute tangent vectors and unit tangent vectors"
   ]
  },
  {
   "cell_type": "markdown",
   "metadata": {},
   "source": [
    "In order to compute the unit tangent vector, we need the tangent vector to the curve along with their corresponding magnitudes. "
   ]
  },
  {
   "cell_type": "markdown",
   "metadata": {},
   "source": [
    "$$\\vec{r}'(t) = \\begin{bmatrix} x'(t) \\\\ y'(t) \\end{bmatrix}$$"
   ]
  },
  {
   "cell_type": "markdown",
   "metadata": {},
   "source": [
    "$$\\lVert \\vec{r}'(t) \\rVert = \\sqrt{x'(t)^2 + y'(t)^2}$$"
   ]
  },
  {
   "cell_type": "code",
   "execution_count": null,
   "metadata": {
    "collapsed": false
   },
   "outputs": [],
   "source": [
    "x_prime = np.gradient(xs)\n",
    "y_prime = np.gradient(ys)\n",
    "xy_prime_mag = np.linalg.norm(np.column_stack((x_prime, y_prime)), axis=1)"
   ]
  },
  {
   "cell_type": "markdown",
   "metadata": {},
   "source": [
    "We then divide the tangent vectors by their magnitudes to get the unit tangent vectors."
   ]
  },
  {
   "cell_type": "markdown",
   "metadata": {},
   "source": [
    "$$T(t) = \\frac{\\vec{r}'(t)}{\\lVert \\vec{r}'(t) \\rVert} = \n",
    "\\begin{bmatrix}\n",
    "    \\frac{x'(t)}{\\sqrt{x'(t)^2 + y'(t)^2}} \\\\\n",
    "    \\frac{y'(t)}{\\sqrt{x'(t)^2 + y'(t)^2}}\n",
    "\\end{bmatrix}$$"
   ]
  },
  {
   "cell_type": "code",
   "execution_count": null,
   "metadata": {
    "collapsed": false
   },
   "outputs": [],
   "source": [
    "Tx = x_prime / xy_prime_mag\n",
    "Ty = y_prime / xy_prime_mag"
   ]
  },
  {
   "cell_type": "code",
   "execution_count": null,
   "metadata": {
    "collapsed": false
   },
   "outputs": [],
   "source": [
    "fig, ax = plt.subplots(subplot_kw={'aspect': 'equal'})\n",
    "ax.plot(xs, ys, '.-', ms=5)\n",
    "pad = 1\n",
    "ax.set_xlim(xs.min()-pad, xs.max()+pad)\n",
    "ax.set_ylim(ys.min()-pad, ys.max()+pad)\n",
    "\n",
    "for i in range(n_pts):\n",
    "#     ax.arrow(xs[i], ys[i], Tx[i], Ty[i],\n",
    "    ax.arrow(xs[i], ys[i], x_prime[i], y_prime[i],\n",
    "             head_width=0.01, head_length=0.02,\n",
    "             length_includes_head=True, fc='r', ec='r', zorder=10)"
   ]
  },
  {
   "cell_type": "markdown",
   "metadata": {},
   "source": [
    "# Step 2: Compute curvature"
   ]
  },
  {
   "cell_type": "markdown",
   "metadata": {},
   "source": [
    "The curvature $\\kappa$ is the magnitude of the derivative of the unit tangent vector, but with respect to arc length $s$, not the parameter $t$.\n",
    "\n",
    "$$\\kappa = \\lVert \\frac{dT}{ds} \\rVert$$\n",
    "\n",
    "In order to compute this we first differentiate $T$ with respect to $t$, then divide by the magnitude $\\lVert \\vec{r}'(t) \\rVert$, which you can think of as $\\frac{ds}{dt}$.\n",
    "\n",
    "$$\\kappa = \\lVert \\frac{dT}{ds} \\rVert = \\frac{\\lVert T'(t) \\rVert}{\\lVert \\vec{r}'(t) \\rVert}$$"
   ]
  },
  {
   "cell_type": "code",
   "execution_count": null,
   "metadata": {
    "collapsed": false
   },
   "outputs": [],
   "source": [
    "# compute ||T'(t)||\n",
    "Tx_prime = np.gradient(Tx)\n",
    "Ty_prime = np.gradient(Ty)\n",
    "Txy_prime_mag = np.linalg.norm(np.column_stack((Tx_prime, Ty_prime)), axis=1)\n",
    "\n",
    "# compute k\n",
    "K = Txy_prime_mag / xy_prime_mag\n",
    "print(K)\n",
    "print(np.sum(K))"
   ]
  },
  {
   "cell_type": "code",
   "execution_count": null,
   "metadata": {
    "collapsed": false
   },
   "outputs": [],
   "source": [
    "fig, ax = plt.subplots(subplot_kw={'aspect': 'equal'})\n",
    "ax.plot(xs, ys, '.-')\n",
    "pad = 0.3; ax.set_xlim(xs.min()-pad, xs.max()+pad); ax.set_ylim(ys.min()-pad, ys.max()+pad);\n",
    "for x, y, k in zip(xs, ys, K):\n",
    "    ax.annotate('{:.4f}'.format(k), (x, y), fontsize=6)\n"
   ]
  },
  {
   "cell_type": "code",
   "execution_count": null,
   "metadata": {
    "collapsed": true
   },
   "outputs": [],
   "source": []
  }
 ],
 "metadata": {
  "anaconda-cloud": {},
  "kernelspec": {
   "display_name": "Python 3",
   "language": "python",
   "name": "python3"
  },
  "language_info": {
   "codemirror_mode": {
    "name": "ipython",
    "version": 3
   },
   "file_extension": ".py",
   "mimetype": "text/x-python",
   "name": "python",
   "nbconvert_exporter": "python",
   "pygments_lexer": "ipython3",
   "version": "3.6.0"
  }
 },
 "nbformat": 4,
 "nbformat_minor": 0
}
